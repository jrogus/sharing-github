{
 "cells": [
  {
   "cell_type": "markdown",
   "id": "ef6d6acb",
   "metadata": {},
   "source": [
    "# <h1 style=\"color:orange;\">Data Science Tools and Ecosystem</h1>"
   ]
  },
  {
   "cell_type": "markdown",
   "id": "ce3e64f1",
   "metadata": {},
   "source": [
    "In this notebook, Data Science Tools and Ecosystem are summarized."
   ]
  },
  {
   "cell_type": "markdown",
   "id": "d87b36c1",
   "metadata": {},
   "source": [
    "<b>Objectives</b>\n",
    "\n",
    "- Popular languages that Data Scientists use\n",
    "- Commonly used libraries used by Data Scientists\n",
    "- Examples of evaluating arithmetic expressions in Python"
   ]
  },
  {
   "cell_type": "markdown",
   "id": "864b102a",
   "metadata": {},
   "source": [
    "Some of the popular languages that Data Scientists use are:"
   ]
  },
  {
   "cell_type": "markdown",
   "id": "438c2a88",
   "metadata": {},
   "source": [
    "1. Python\n",
    "2. R\n",
    "3. SQL"
   ]
  },
  {
   "cell_type": "markdown",
   "id": "26437793",
   "metadata": {},
   "source": [
    "Some of the commonly used libraries used by Data Scientists include:\n"
   ]
  },
  {
   "cell_type": "markdown",
   "id": "422c3310",
   "metadata": {},
   "source": [
    "1. pandas\n",
    "2. NumPy\n",
    "3. scikit-learn"
   ]
  },
  {
   "cell_type": "markdown",
   "id": "50d1f4b0",
   "metadata": {},
   "source": [
    "| Data Science Tools |\n",
    "| :----------------: |\n",
    "   | Hadoop|\n",
    "   | Spark|\n",
    "   | ggplot2|"
   ]
  },
  {
   "cell_type": "markdown",
   "id": "07444398",
   "metadata": {},
   "source": [
    " <h3 style=\"color:blue;\">Below are a few examples of evaluating arithmetic expressions in Python.\n",
    "</h3>"
   ]
  },
  {
   "cell_type": "code",
   "execution_count": 18,
   "id": "ce35ff2a",
   "metadata": {},
   "outputs": [
    {
     "data": {
      "text/plain": [
       "17"
      ]
     },
     "execution_count": 18,
     "metadata": {},
     "output_type": "execute_result"
    }
   ],
   "source": [
    "#This a simple arithmetic expression to mutiply then add integers.\n",
    "(3*4)+5"
   ]
  },
  {
   "cell_type": "code",
   "execution_count": 28,
   "id": "3b2aaa61",
   "metadata": {},
   "outputs": [
    {
     "name": "stdout",
     "output_type": "stream",
     "text": [
      "200 minutes equals 3.33 hours\n"
     ]
    }
   ],
   "source": [
    "#This will convert 200 minutes to hours by diving by 60\n",
    "MinutesValue = 200\n",
    "print(str(MinutesValue), \"minutes equals\", str(round(MinutesValue/60,2)), \"hours\")\n"
   ]
  },
  {
   "cell_type": "markdown",
   "id": "71a9e4ba",
   "metadata": {},
   "source": [
    "## Author\n",
    "John Rogus"
   ]
  },
  {
   "cell_type": "code",
   "execution_count": null,
   "id": "05e03df2",
   "metadata": {},
   "outputs": [],
   "source": []
  },
  {
   "cell_type": "code",
   "execution_count": 15,
   "id": "b378d2bf",
   "metadata": {},
   "outputs": [
    {
     "name": "stdout",
     "output_type": "stream",
     "text": [
      "1. Python\n",
      "2. R\n",
      "3. SQL\n"
     ]
    }
   ],
   "source": [
    "#Here is the same thing with code.  \n",
    "#(I misunderstood initially, but good chance to practice)\n",
    "languages = [\"Python\",\"R\",\"SQL\"]\n",
    "counter=1\n",
    "for i in languages:\n",
    "    print(counter, \". \", i,sep=\"\")\n",
    "    counter+=1\n"
   ]
  },
  {
   "cell_type": "code",
   "execution_count": 31,
   "id": "1252383c",
   "metadata": {},
   "outputs": [
    {
     "name": "stdout",
     "output_type": "stream",
     "text": [
      "1. pandas\n",
      "2. NumPy\n",
      "3. scikit-learn\n"
     ]
    }
   ],
   "source": [
    "#Here is the same thing with code.  \n",
    "#(I misunderstood initially, but good chance to practice)\n",
    "libraries = [\"pandas\",\"NumPy\",\"scikit-learn\"]\n",
    "counter=1\n",
    "for i in libraries:\n",
    "    print(counter, \". \", i,sep=\"\")\n",
    "    counter+=1\n",
    "\n"
   ]
  }
 ],
 "metadata": {
  "kernelspec": {
   "display_name": "Python 3 (ipykernel)",
   "language": "python",
   "name": "python3"
  },
  "language_info": {
   "codemirror_mode": {
    "name": "ipython",
    "version": 3
   },
   "file_extension": ".py",
   "mimetype": "text/x-python",
   "name": "python",
   "nbconvert_exporter": "python",
   "pygments_lexer": "ipython3",
   "version": "3.11.5"
  }
 },
 "nbformat": 4,
 "nbformat_minor": 5
}
